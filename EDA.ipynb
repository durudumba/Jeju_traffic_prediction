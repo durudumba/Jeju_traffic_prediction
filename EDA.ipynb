{
 "cells": [
  {
   "cell_type": "code",
   "execution_count": 4,
   "metadata": {},
   "outputs": [],
   "source": [
    "import pandas as pd\n",
    "from sklearn.preprocessing import LabelEncoder"
   ]
  },
  {
   "cell_type": "code",
   "execution_count": 27,
   "metadata": {},
   "outputs": [],
   "source": [
    "train = pd.read_parquet('./train.parquet')\n",
    "test = pd.read_parquet('./test.parquet')"
   ]
  },
  {
   "cell_type": "markdown",
   "metadata": {},
   "source": [
    "# 변수탐색\n",
    "\n",
    "0. id : 아이디\n",
    "\n",
    "1. base_date : 날짜(int)\n",
    "   - 281개의 특정 날짜만 사용\n",
    "   - 2021.09.01~2022.07.31 간에 기록된 것이나 기록되지 않은 날도 존재\n",
    "\n",
    "1. day_of_week : 요일(str)\n",
    "   - 월~일 골고루 분포되어 있음\n",
    "\n",
    "2. base_hour : 시간대(int)\n",
    "   - 해가 떠있는 시간대에 표본이 많이 존재\n",
    "\n",
    "3. lane_count : 차로 수(int)\n",
    "   - 표본 수는 1차로(약 155만), 2차로(약 235만), 3차로(약 79만)\n",
    "\n",
    "4. road_rating : 도로등급(int)\n",
    "   - 표본 수는 103(약 215만), 106(약 95만), 107(약 158만)\n",
    "   - 103은 일반국도, 106은 지방도, 107은 시도로 추정됨.\n",
    "\n",
    "5. road_name : 도로명(str)\n",
    "   - 약 56만개의 결측치 존재\n",
    "   - 결측치 제외 60개의 도로명 존재 -> labeling 후 변수 사용에 대해 생각해봐야 됨.\n",
    "\n",
    "6. multi_linked : 중용구간 여부(int)\n",
    "   - 값이 1(약 0.2만), 0(약 469만)으로 이분\n",
    "\n",
    "7. connect_code : 연결로 코드(int)\n",
    "   - 연결로 코드가 0이 아닌 경우 중용여부는 무조건 0이다.(if connect_code!=0 then multi_linked==0)\n",
    "   - 값이 103(약 1.2만), 0(약 468만)으로 이분\n",
    "\n",
    "8. maximum_speed_limit : 최고속도 제한(float)\n",
    "    - 30~80km/h로 나뉘어져 있음\n",
    "    - 도로등급과 함께 보았을 때 고속국도는 없는 것으로 추정됨\n",
    "\n",
    "9.  ~~vehicle_restricted : 통과차량제한(float)~~\n",
    "    - 모든 값이 0임 -> 삭제해도 될 듯\n",
    "\n",
    "10. weight_restricted : 통과제한하중(float)\n",
    "    - 0(약 403만) 외 3개의 변수가 있음\n",
    "\n",
    "11. ~~height_restricted : 통과제한높이(float)~~\n",
    "    - 모든 값이 0임 -> 삭제해도 될듯\n",
    "\n",
    "12. road_type : 도로유형(int)\n",
    "    - 값이 0(약 373만), 3(약 96만)으로 이분\n",
    "\n",
    "13. ~ 17.  start_node : 시작지점\n",
    "    - name(str) : 지점명이 중복사용되는 경우가 다양하게 많음\n",
    "    - lat(float), long(float) : 지점의 위도, 경도\n",
    "    - restricted(str) : 회전제한 유무 // 없음(약 423만), 있음(약 46만) -> labeling해서 사용\n",
    "\n",
    "14. ~ 21. end_node : 종료지점\n",
    "    - name(str) : 지점명이 중복사용되는 경우가 다양하게 많음\n",
    "    - lat(float), long(float) : 지점의 위도, 경도\n",
    "    - restricted(str) : 회전제한 유무 // 없음(약 423만), 있음(약 46만) -> labeling해서 사용\n",
    "\n",
    "    - 각 노드들을 하나의 객체로 봤을 때 start_node와 end_node가 중복사용이 많이 됨 -> 노드(이름,위도,경도,회전제한)를 하나의 객체로 구성해 사용하는 것이 바람직해보임.\n",
    "\n",
    "15. target : 평균속도(km/h)(float)\n",
    "    - 목적변수\n",
    "    - train내에서만 존재\n",
    "\n"
   ]
  },
  {
   "cell_type": "markdown",
   "metadata": {},
   "source": [
    "# 전처리 및 변수선택\n",
    "- base_hour : 24개의 범주 -> 시간대별로 묶어(0~5, 6~10, 11~19, 20~23)\n",
    "- road_name : 61개의 범주 + 각 범주값들간에 명확한 차이를 둘 수 없음 -> 삭제\n",
    "- multi_linked : 데이터 극편향(이상치로 간주) + 상대적으로 높은 p-value + 후진 BIC에서 제거됨 -> 삭제\n",
    "- connect_code : 데이터 극편향 + multi_linked와 관계있는 것으로 보임 -> 삭제\n",
    "- weight_restricted : 제한없음에 편향 -> 제한유무로 변환\n",
    "- start_node_name : 487개의 범주 + 각 범주값들 간 명확한 차이를 둘 수 없음 -> 삭제\n",
    "- end_node_name : 487개의 범주 + 각 범주값들 간 명확한 차이를 둘 수 없음 -> 삭제\n",
    "- start_turn_restricted : end_turn_restricted와 합쳐 4레벨의 범주형 변수로 변환"
   ]
  }
 ],
 "metadata": {
  "kernelspec": {
   "display_name": "Python 3.9.12 ('cnn')",
   "language": "python",
   "name": "python3"
  },
  "language_info": {
   "codemirror_mode": {
    "name": "ipython",
    "version": 3
   },
   "file_extension": ".py",
   "mimetype": "text/x-python",
   "name": "python",
   "nbconvert_exporter": "python",
   "pygments_lexer": "ipython3",
   "version": "3.9.12"
  },
  "orig_nbformat": 4,
  "vscode": {
   "interpreter": {
    "hash": "2d43b4f546223569313ccfff62c0ebc3ac52433fbaef4ef84674b2a98664dd48"
   }
  }
 },
 "nbformat": 4,
 "nbformat_minor": 2
}
